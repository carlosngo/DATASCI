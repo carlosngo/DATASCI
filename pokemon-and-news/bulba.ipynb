{
 "cells": [
  {
   "cell_type": "code",
   "execution_count": 1,
   "metadata": {},
   "outputs": [],
   "source": [
    "import requests\n",
    "\n",
    "URL=\"https://bulbapedia.bulbagarden.net/wiki/List_of_Pok%C3%A9mon_by_National_Pok%C3%A9dex_number\""
   ]
  },
  {
   "cell_type": "code",
   "execution_count": 2,
   "metadata": {},
   "outputs": [],
   "source": [
    "page=requests.get(URL)"
   ]
  },
  {
   "cell_type": "code",
   "execution_count": 3,
   "metadata": {},
   "outputs": [],
   "source": [
    "from bs4 import BeautifulSoup\n",
    "\n",
    "soup = BeautifulSoup(page.content, 'html.parser')"
   ]
  },
  {
   "cell_type": "code",
   "execution_count": 4,
   "metadata": {},
   "outputs": [],
   "source": [
    "poke_content=soup.find(id='mw-content-text')\n",
    "poke_tables=poke_content.find_all('table')"
   ]
  },
  {
   "cell_type": "code",
   "execution_count": 5,
   "metadata": {},
   "outputs": [],
   "source": [
    "info_start = 3\n",
    "out_json = {}\n",
    "base_url = \"https://bulbapedia.bulbagarden.net\"\n",
    "for gen in range(1, 9):\n",
    "    gen_list=poke_tables[gen]\n",
    "    gen_json = []\n",
    "    for i in range(info_start, len(gen_list.contents), 2):\n",
    "        poke_info = gen_list.contents[i]\n",
    "        kdex = poke_info.contents[1].text.strip()\n",
    "        ndex = poke_info.contents[3].text.strip()\n",
    "        name = poke_info.contents[7].text.strip()\n",
    "        url = base_url + poke_info.contents[7].contents[1].get('href')\n",
    "        type1 = poke_info.contents[9].text.strip()\n",
    "        if len(poke_info.contents) > 10:\n",
    "            type2 = poke_info.contents[11].text.strip()\n",
    "            gen_json.append({\n",
    "                \"kdex\": kdex,\n",
    "                \"ndex\": ndex,\n",
    "                \"name\": name,\n",
    "                \"type1\": type1,\n",
    "                \"type2\": type2,\n",
    "                \"url\": url\n",
    "            })\n",
    "        else:\n",
    "            gen_json.append({\n",
    "                \"kdex\": kdex,\n",
    "                \"ndex\": ndex,\n",
    "                \"name\": name,\n",
    "                \"type1\": type1,\n",
    "                \"url\": url\n",
    "            })\n",
    "    out_json[\"gen\" + str(gen)] = gen_json;"
   ]
  },
  {
   "cell_type": "code",
   "execution_count": 6,
   "metadata": {},
   "outputs": [],
   "source": [
    "import json\n",
    "\n",
    "with open('bulba.json', 'w') as json_file:\n",
    "    json.dump(out_json, json_file)"
   ]
  }
 ],
 "metadata": {
  "kernelspec": {
   "display_name": "Python 3",
   "language": "python",
   "name": "python3"
  },
  "language_info": {
   "codemirror_mode": {
    "name": "ipython",
    "version": 3
   },
   "file_extension": ".py",
   "mimetype": "text/x-python",
   "name": "python",
   "nbconvert_exporter": "python",
   "pygments_lexer": "ipython3",
   "version": "3.7.3"
  }
 },
 "nbformat": 4,
 "nbformat_minor": 2
}
